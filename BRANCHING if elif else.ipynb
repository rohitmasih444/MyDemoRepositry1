{
 "cells": [
  {
   "cell_type": "markdown",
   "id": "c8661e54",
   "metadata": {},
   "source": [
    "# Branching"
   ]
  },
  {
   "cell_type": "raw",
   "id": "cd4cba3e",
   "metadata": {},
   "source": [
    "(If/ elif / else)\n",
    "Python provides the if statement to allow branching based on condition. Multiple elif check can also be performed followed by an optional else clause. The id statement can be used with any evalution of truthiness"
   ]
  },
  {
   "cell_type": "code",
   "execution_count": 6,
   "id": "f651af81",
   "metadata": {},
   "outputs": [
    {
     "name": "stdout",
     "output_type": "stream",
     "text": [
      "It is less than 10\n"
     ]
    }
   ],
   "source": [
    "i = 9\n",
    "if i < 10:\n",
    "    print('It is less than 10')\n",
    "    \n",
    "else:\n",
    "    print('It is something else')"
   ]
  },
  {
   "cell_type": "code",
   "execution_count": 8,
   "id": "52acfe33",
   "metadata": {},
   "outputs": [
    {
     "name": "stdout",
     "output_type": "stream",
     "text": [
      "It is less than 10\n"
     ]
    }
   ],
   "source": [
    "# you can also write in this way\n",
    "print('It is less than 10') if i < 10 else print('It is something else')"
   ]
  },
  {
   "cell_type": "markdown",
   "id": "388196ba",
   "metadata": {},
   "source": [
    "# Free Shipping Message"
   ]
  },
  {
   "cell_type": "code",
   "execution_count": 10,
   "id": "dc9718e2",
   "metadata": {},
   "outputs": [
    {
     "name": "stdout",
     "output_type": "stream",
     "text": [
      "your item are eligible for free shipping\n"
     ]
    }
   ],
   "source": [
    "item_1 = 300\n",
    "item_2 = 250\n",
    "if (item_1 + item_2) >= 500:\n",
    "    print(\"your item are eligible for free shipping\")\n",
    "    \n",
    "else:\n",
    "    extra = 500 - (item_1 + item_2)\n",
    "    print('please add ', extra, 'Rs worth of an item for free shipping')"
   ]
  },
  {
   "cell_type": "code",
   "execution_count": 9,
   "id": "ab9e38fa",
   "metadata": {},
   "outputs": [
    {
     "name": "stdout",
     "output_type": "stream",
     "text": [
      "please add 80 Rs worth of an item for free shipping\n"
     ]
    }
   ],
   "source": [
    "item_1 = 400\n",
    "item_2 = 20\n",
    "if (item_1 + item_2) >= 500:\n",
    "    print('your item are eligible for the free shipping')\n",
    "    \n",
    "else:\n",
    "    extra = 500 - (item_1 + item_2)\n",
    "    print('please add', extra,'Rs worth of an item for free shipping')"
   ]
  },
  {
   "cell_type": "code",
   "execution_count": 11,
   "id": "46637bf6",
   "metadata": {},
   "outputs": [
    {
     "name": "stdout",
     "output_type": "stream",
     "text": [
      "Both are not True\n"
     ]
    }
   ],
   "source": [
    "a = 300\n",
    "b = 55\n",
    "c = 500\n",
    "\n",
    "if a > b and c < a:\n",
    "    print(\"Both condition are True\")\n",
    "    \n",
    "else:\n",
    "    print(\"Both are not True\")"
   ]
  },
  {
   "cell_type": "code",
   "execution_count": 12,
   "id": "5587ef3d",
   "metadata": {},
   "outputs": [
    {
     "name": "stdout",
     "output_type": "stream",
     "text": [
      "At least one of the condition is True\n"
     ]
    }
   ],
   "source": [
    "a = 300\n",
    "b = 55\n",
    "c = 500\n",
    "if a > b or c < a:\n",
    "    print(\"At least one of the condition is True\")\n",
    "\n",
    "else:\n",
    "    print(\"both are Not True\")"
   ]
  },
  {
   "cell_type": "markdown",
   "id": "b100f600",
   "metadata": {},
   "source": [
    "# Find student level"
   ]
  },
  {
   "cell_type": "code",
   "execution_count": 18,
   "id": "b4e600e6",
   "metadata": {},
   "outputs": [
    {
     "name": "stdout",
     "output_type": "stream",
     "text": [
      "31 _Fail - Better luck next time\n"
     ]
    }
   ],
   "source": [
    "marks = 31\n",
    "\n",
    "if marks >= 60:\n",
    "    if marks > 70:\n",
    "        print(marks, '_Distinction')\n",
    "    else:\n",
    "        print(marks, '_First class')\n",
    "        \n",
    "        \n",
    "elif marks > 50 and marks < 60:\n",
    "    print(marks, '_second class')\n",
    "    \n",
    "elif marks >= 35:\n",
    "    print(marks, '_Pass')\n",
    "    \n",
    "else:\n",
    "    print(marks, '_Fail - Better luck next time')"
   ]
  },
  {
   "cell_type": "code",
   "execution_count": 19,
   "id": "0193ec62",
   "metadata": {},
   "outputs": [
    {
     "name": "stdout",
     "output_type": "stream",
     "text": [
      "Its greater than 25\n"
     ]
    }
   ],
   "source": [
    "num1 = 20\n",
    "num2 = 30 \n",
    "\n",
    "if num1 == '20':\n",
    "    print('Its not 20')\n",
    "    \n",
    "elif num2 > 25:\n",
    "    print('Its greater than 25')"
   ]
  },
  {
   "cell_type": "markdown",
   "id": "fcbe76ba",
   "metadata": {},
   "source": [
    "# The range() function"
   ]
  },
  {
   "cell_type": "markdown",
   "id": "396c7ee2",
   "metadata": {},
   "source": [
    "We can generate a sequence of numbers using range() function. range(10) will generate numbers from 0 to 9 (10 numbers).\n",
    "we can also define the start , stop , step size as range(start,stop,step size). Step size defaults to 1 if not provided.\n",
    "This does not store all the value in memory. It would be inefficient. So iyt remembers the start , stop, step size and generates the next number on the go.\n",
    "\n",
    "To force this function to output all the items , we can use the function list()\n",
    "the following example will clarify this."
   ]
  },
  {
   "cell_type": "code",
   "execution_count": 1,
   "id": "c1b1c999",
   "metadata": {},
   "outputs": [
    {
     "name": "stdout",
     "output_type": "stream",
     "text": [
      "range(0, 10)\n"
     ]
    }
   ],
   "source": [
    "print(range(10))"
   ]
  },
  {
   "cell_type": "code",
   "execution_count": 2,
   "id": "a496a115",
   "metadata": {},
   "outputs": [
    {
     "name": "stdout",
     "output_type": "stream",
     "text": [
      "[0, 1, 2, 3, 4, 5, 6, 7, 8, 9]\n"
     ]
    }
   ],
   "source": [
    "print(list(range(10)))"
   ]
  },
  {
   "cell_type": "code",
   "execution_count": null,
   "id": "f1031406",
   "metadata": {},
   "outputs": [],
   "source": []
  }
 ],
 "metadata": {
  "kernelspec": {
   "display_name": "Python 3 (ipykernel)",
   "language": "python",
   "name": "python3"
  },
  "language_info": {
   "codemirror_mode": {
    "name": "ipython",
    "version": 3
   },
   "file_extension": ".py",
   "mimetype": "text/x-python",
   "name": "python",
   "nbconvert_exporter": "python",
   "pygments_lexer": "ipython3",
   "version": "3.9.12"
  }
 },
 "nbformat": 4,
 "nbformat_minor": 5
}
